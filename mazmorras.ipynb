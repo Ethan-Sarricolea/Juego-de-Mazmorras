{
 "cells": [
  {
   "cell_type": "markdown",
   "metadata": {},
   "source": [
    "# Generador de marmorras aleatorias\n",
    "\n",
    "### Sarricolea Cortés Ethan Yahel\n",
    "\n",
    "## Funcionamiento:\n",
    "\n",
    "El codigo generara un Mapa (Grafo) con un numero limitado de habitaciones (nodos) de diferentes tipos, según la habitacion sera diferente su proposito.\n",
    "\n",
    "La habitacíon de entrada (E) estara presente en cada mapa y solo habra una, en el juego esta sera la sala donde el jugador comenzara.\n",
    "\n",
    "La habitacion de salida (S) que sera la sala objetivo del jugador, esta sera la sala donde el jugador tendra la posibilidad de terminar la partida si esta satisfecho con su puntaje.\n",
    "\n",
    "Las habitaciones vacias (V1, V2...) son habitaciones por las que podra pasar el jugador sin tener ningun efecto positivo o negativo.\n",
    "\n",
    "Las habitaciones cofre (C1, C2...) son habitaciones donde el jugador obtendra 50 puntos al pasar por ellas por primera vez.\n",
    "\n",
    "Por ultimo las habitaciones trampa (T1, T2...) que son habitaciones con efecto negativo, al pasar por ellas el jugador perdera 10 puntos en cada ocasión.\n",
    "\n",
    "## Objetivo:\n",
    "\n",
    "El jugador debe salir de la mazmorra en el menor recorrido posible y con la maytor cantidad de puntos.\n",
    "\n",
    "## Codigo:\n",
    "\n",
    "Para crear el generador de mazmorras aleatorias se utilizaran 4 librerias:\n",
    "\n",
    "### Librerias"
   ]
  },
  {
   "cell_type": "code",
   "execution_count": 1,
   "metadata": {},
   "outputs": [],
   "source": [
    "import networkx as nx"
   ]
  },
  {
   "cell_type": "markdown",
   "metadata": {},
   "source": [
    "Con la libreria networkx se creara el grafo y sus componentes"
   ]
  },
  {
   "cell_type": "code",
   "execution_count": 2,
   "metadata": {},
   "outputs": [],
   "source": [
    "import matplotlib.pyplot as plt"
   ]
  },
  {
   "cell_type": "markdown",
   "metadata": {},
   "source": [
    "La libreria matplotlip se utilizara para mostrar el grafo en pantalla."
   ]
  },
  {
   "cell_type": "code",
   "execution_count": 3,
   "metadata": {},
   "outputs": [],
   "source": [
    "import random,gc"
   ]
  },
  {
   "cell_type": "markdown",
   "metadata": {},
   "source": [
    "Por ultimo las librerias random y gc, para generar selecciones aleatorias y no saturar la memoria respectivamente."
   ]
  },
  {
   "cell_type": "markdown",
   "metadata": {},
   "source": [
    "### Grafo y variables:\n",
    "\n",
    "Con las librerias importadas es necesario primero crear las instancias del grafo y la libreria random para la aleatoriedad."
   ]
  },
  {
   "cell_type": "code",
   "execution_count": 4,
   "metadata": {},
   "outputs": [],
   "source": [
    "mapa = nx.Graph()\n",
    "aleatorio = random.Random()"
   ]
  },
  {
   "cell_type": "markdown",
   "metadata": {},
   "source": [
    "Posteriormente se crean variables para el funcionamiento de las funciones y la creación de los grafos y sus conexiones aleatorias."
   ]
  },
  {
   "cell_type": "code",
   "execution_count": 5,
   "metadata": {},
   "outputs": [],
   "source": [
    "salas = [\"E\",\"S\",\"V\",\"C\",\"T\"] # Guarda los tipos de sala\n",
    "nodos = [] # Guarda los nodos creados que contiene el mapa\n",
    "dist = [] # Guarda la distribución\n",
    "errorCount = 0 # Guarda la cantidad de intentos de creación "
   ]
  },
  {
   "cell_type": "markdown",
   "metadata": {},
   "source": [
    "### Funciones:\n",
    "\n",
    "La primer funcion en ser creada sera \"create_rooms\" en donde se generarán los nodos de manera aleatoria de acorde a las reglas preestablecidas.\n"
   ]
  },
  {
   "cell_type": "code",
   "execution_count": 6,
   "metadata": {},
   "outputs": [],
   "source": [
    "def create_rooms(maxSize):\n",
    "    try:\n",
    "        mapa.clear()\n",
    "    except:\n",
    "        print(\"mapa vacio\")\n",
    "    #creacion de la entrada\n",
    "    for room in salas:\n",
    "        if room==\"E\" or room==\"S\":\n",
    "            # Agregar una entrada y una salida\n",
    "            mapa.add_node(room)\n",
    "            nodos.append(room)\n",
    "        elif (room==\"V\"):\n",
    "            # Agregar el numero maximo de salas vacias\n",
    "            for i in range(1,maxSize+1):\n",
    "                mapa.add_node(f\"{room}{i}\")\n",
    "                nodos.append(f\"{room}{i}\")\n",
    "        elif (room==\"C\"):\n",
    "            #Agregar un numero aleatorio de cofres segun el maximo\n",
    "            cant = aleatorio.randrange(1,3)\n",
    "            maxSize -=cant\n",
    "            for i in range(1,cant+1):\n",
    "                mapa.add_node(f\"{room}{i}\")\n",
    "                nodos.append(f\"{room}{i}\")\n",
    "        elif (room==\"T\"):\n",
    "            # Agregar el numero restante de trampas segun el maximo\n",
    "            for i in range(1,maxSize+1):\n",
    "                mapa.add_node(f\"{room}{i}\")\n",
    "                nodos.append(f\"{room}{i}\")\n",
    "\n",
    "create_rooms(3)"
   ]
  },
  {
   "cell_type": "markdown",
   "metadata": {},
   "source": [
    "En la funcion anterior analiza si ya fue llenado el grafo anteriormente, de haberse echo se "
   ]
  },
  {
   "cell_type": "code",
   "execution_count": 7,
   "metadata": {},
   "outputs": [],
   "source": [
    "def show_nodes():\n",
    "    fig, ax = plt.subplots()\n",
    "    pos = nx.spring_layout(mapa)  # Posiciones de los nodos\n",
    "    nx.draw(mapa,pos,with_labels=True, node_color='lightblue', node_size=500)\n",
    "    labels = nx.get_node_attributes(mapa, 'id')\n",
    "    fig.canvas.manager.set_window_title('Mapa')\n",
    "    nx.draw_networkx_labels(mapa, pos, labels=labels)\n",
    "    plt.show()"
   ]
  },
  {
   "cell_type": "code",
   "execution_count": 8,
   "metadata": {},
   "outputs": [
    {
     "data": {
      "image/png": "[encoded data removed]",
      "text/plain": [
       "<Figure size 640x480 with 1 Axes>"
      ]
     },
     "metadata": {},
     "output_type": "display_data"
    }
   ],
   "source": [
    "show_nodes()"
   ]
  },
  {
   "cell_type": "markdown",
   "metadata": {},
   "source": [
    "La funcion show_nodes crea la pantalla y la muestra con los nodos y sus conexiones."
   ]
  },
  {
   "cell_type": "markdown",
   "metadata": {},
   "source": [
    "Posteriormente se debe crear la funcion de conexion de nodos, para ello se explican las reglas que se quieren aplicar:"
   ]
  },
  {
   "cell_type": "markdown",
   "metadata": {},
   "source": [
    "#### Reglas de conexion de nodos:\n",
    "---------\n",
    "- Se debe establecer un limite de tipos de sala (en este caso 3)\n",
    "- Ningun nodo puede sobrepasar el grado 4 (no puede tener mas de 4 conexiones a otros nodos)\n",
    "- Solo puede haber una entrada y una salida\n",
    "- De las salas restantes la mitad seran salas vacias\n",
    "- De las salas restantes un numero aleatorio entre 1 y el limite (en este caso 3) seran salas de cofre y el restante seran salas trampa\n",
    "- Debe haber almenos una sala de cofre y una sala de trampa\n",
    "- La sala de salida no puede conectarse a trampas.\n",
    "- Si en la generacion aleatoria alguno de los nodos no llega a ser conectado este sera removido del mapa (Grafo)"
   ]
  },
  {
   "cell_type": "code",
   "execution_count": 9,
   "metadata": {},
   "outputs": [
    {
     "name": "stdout",
     "output_type": "stream",
     "text": [
      "['V1', 'V2', 'V3', 'C1', 'C2', 'T1']\n"
     ]
    }
   ],
   "source": [
    "nodos2 = nodos\n",
    "def conect_rooms(level):\n",
    "    global nodos2, secondClon, mapa2,size,clon\n",
    "    nodos = nodos2[2:]\n",
    "    print(nodos)\n",
    "    try:\n",
    "        errorCount = 0\n",
    "        size = 4\n",
    "        clon = nodos\n",
    "        mapa2 = dict()\n",
    "        for data in clon:\n",
    "            mapa2.setdefault(data)\n",
    "        # print(clon,mapa)\n",
    "        # global secondClon\n",
    "        secondClon = clon\n",
    "        # print(secondClon)\n",
    "        for roomType in salas:\n",
    "            if(roomType==\"E\"):\n",
    "                # print(secondClon)\n",
    "                for n in range(size):\n",
    "                    sala = aleatorio.choice(secondClon)\n",
    "                    # mapa2[sala] = 1 if mapa2[sala]==None else mapa2[sala]+1\n",
    "                    secondClon.remove(sala)\n",
    "                    # print(\"Entrada\")\n",
    "                    # print(secondClon)\n",
    "                    mapa.add_edge(roomType,sala)\n",
    "            if roomType==\"S\":\n",
    "                # print(\"Salida\")\n",
    "                # print(secondClon)\n",
    "                # print(len(secondClon))\n",
    "                lim = aleatorio.randrange(0,len(secondClon))\n",
    "                lim = 2 if lim>=size else lim\n",
    "                for n in range(-1,lim):\n",
    "                    sala = aleatorio.choice(secondClon)\n",
    "                    if sala[0]==\"T\":\n",
    "                        secondClon.remove(sala)\n",
    "                        sala = aleatorio.choice(secondClon)\n",
    "                        # mapa2[sala] = 1 if mapa[sala]==None else mapa2[sala]+1\n",
    "                        # print(secondClon)\n",
    "                        mapa.add_edge(roomType,sala)\n",
    "                    else:\n",
    "                        # mapa2[sala] = 1 if mapa[sala]==None else mapa2[sala]+1\n",
    "                        secondClon.remove(sala)\n",
    "                        # print(secondClon)\n",
    "                        mapa.add_edge(roomType,sala)\n",
    "            elif roomType==\"V\":\n",
    "                clon2 = nodos2[2:] # Clona la lista de los nodos sin contar la entrada y salida\n",
    "                # print(\"resto creado\",nodos2)\n",
    "                nodes = mapa.nodes\n",
    "                for node in nodes:\n",
    "                    if mapa.degree(node)<4:\n",
    "                        other = aleatorio.choice(clon2)\n",
    "                        if other!=node and mapa.degree(other)<4:\n",
    "                            mapa.add_edge(node,other)\n",
    "        nodos = mapa.nodes\n",
    "        for nodes in nodos:\n",
    "            if mapa.degree(nodes)==0:\n",
    "                mapa.remove_node(nodes)\n",
    "            if max(dict(mapa.degree()).values())>4:\n",
    "                raise TypeError\n",
    "    except Exception as e:\n",
    "        errorCount+=1\n",
    "        gc.collect()    # Evitar saturar la memoria\n",
    "        print(f\"Error de generacion {e}\")\n",
    "        print(\"Realizando otro intento...\")\n",
    "        if errorCount>5:   # por mas de 5 intentos se disminuye el nivel\n",
    "            nivel = ((level/3)-1 if (level/3)>1 else (level/3))\n",
    "            set_map_size()\n",
    "        else:\n",
    "            # conect_rooms(level)\n",
    "            print(\"error\")\n",
    "\n",
    "conect_rooms(3)"
   ]
  },
  {
   "cell_type": "code",
   "execution_count": 10,
   "metadata": {},
   "outputs": [
    {
     "data": {
      "image/png": "[encoded data removed]",
      "text/plain": [
       "<Figure size 640x480 with 1 Axes>"
      ]
     },
     "metadata": {},
     "output_type": "display_data"
    }
   ],
   "source": [
    "show_nodes()"
   ]
  },
  {
   "cell_type": "markdown",
   "metadata": {},
   "source": [
    "En la funcion anterior se crea el mapa (grafo) en base a las reglas presentadas.\n",
    "\n",
    "Posteriormente se puede obtener datos para el videojuego, como el grado maximo de un nodo para asegurarse de que cumpla con las reglas y el camino mas corto:"
   ]
  },
  {
   "cell_type": "code",
   "execution_count": 11,
   "metadata": {},
   "outputs": [
    {
     "name": "stdout",
     "output_type": "stream",
     "text": [
      "4\n",
      "El camino mas corto es de 3 aristas: ['E', 'T1', 'V2', 'S']\n"
     ]
    }
   ],
   "source": [
    "def get_camino():\n",
    "    return nx.shortest_path(mapa, source='E', target='S', weight='weight')\n",
    "\n",
    "print(mapa.degree(\"E\"))\n",
    "print(f\"El camino mas corto es de {len(get_camino())-1} aristas: {get_camino()}\")"
   ]
  },
  {
   "cell_type": "markdown",
   "metadata": {},
   "source": [
    "##### Sarricolea Cortés Ethan Yahel"
   ]
  }
 ],
 "metadata": {
  "kernelspec": {
   "display_name": "Python 3 (ipykernel)",
   "language": "python",
   "name": "python3"
  },
  "language_info": {
   "codemirror_mode": {
    "name": "ipython",
    "version": 3
   },
   "file_extension": ".py",
   "mimetype": "text/x-python",
   "name": "python",
   "nbconvert_exporter": "python",
   "pygments_lexer": "ipython3",
   "version": "3.11.9"
  }
 },
 "nbformat": 4,
 "nbformat_minor": 4
}
